{
 "cells": [
  {
   "cell_type": "code",
   "execution_count": null,
   "metadata": {},
   "outputs": [],
   "source": [
    "import os\n",
    "import re\n",
    "\n",
    "import pandas as pd\n",
    "\n",
    "filenames = [f for f in os.listdir('output') if f.endswith('.csv')]\n",
    "basefile = pd.read_excel('即時匯率.xlsx')\n",
    "for filename in filenames:\n",
    "    data = pd.read_csv(f'output/{filename}')\n",
    "    data = data.query(\"not 價格.isna()\")\n",
    "    if not data.empty:\n",
    "        # data['價格'] = data['價格'].str.findall(r'(\\d+)(?:\\.\\d+)?')\n",
    "        data['國家'] = data['國家'].str.upper()\n",
    "        basefile['幣值'] = basefile['幣值'].str[:2].str.upper()\n",
    "        data = pd.merge(basefile, data, left_on = '幣值', right_on='國家', how='right')\n",
    "        data = data[['遊戲名稱', '國家_x', '幣值', '價格', '更新時間', 'Visa匯率', 'Master匯率', 'JCB匯率']]\n",
    "        data = data.rename(columns={'國家_x': '國家'})\n",
    "        data = data.fillna(0)\n",
    "        data['價格'] = data['價格'].apply(lambda x: re.sub(r'[^\\d.,]+', '', x))\n",
    "        data['價格'] = data['價格'].apply(lambda x: str(x).rstrip('.'))\n",
    "        data['價格'] = data['價格'].str.replace(r'\\.00$', '')\n",
    "        data['價格'] = data['價格'].apply(lambda x: str(x).rstrip('.00'))\n",
    "        data['價格'] = data['價格'].str.replace(',', '')\n",
    "        # data['價格'] = data['價格'].astype(int)\n",
    "        # data['價格'] = data['價格'].apply(lambda x: re.sub(r'(\\d+)\\.$', r'', x))\n",
    "        # data.to_csv(f'result/{filename}', index=False)\n",
    "        # data = pd.read_csv(f'result/{filename}')\n",
    "        # data['價格_TWD'] = data['價格'] * data['Visa匯率']\n",
    "        display(data)\n",
    "        # break"
   ]
  }
 ],
 "metadata": {
  "kernelspec": {
   "display_name": "google",
   "language": "python",
   "name": "python3"
  },
  "language_info": {
   "codemirror_mode": {
    "name": "ipython",
    "version": 3
   },
   "file_extension": ".py",
   "mimetype": "text/x-python",
   "name": "python",
   "nbconvert_exporter": "python",
   "pygments_lexer": "ipython3",
   "version": "3.9.15"
  }
 },
 "nbformat": 4,
 "nbformat_minor": 2
}
