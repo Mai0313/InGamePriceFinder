{
 "cells": [
  {
   "attachments": {},
   "cell_type": "markdown",
   "metadata": {},
   "source": [
    "### **Save these countries into json (Optional)**"
   ]
  },
  {
   "cell_type": "code",
   "execution_count": null,
   "metadata": {},
   "outputs": [],
   "source": [
    "import json\n",
    "\n",
    "countries = {\n",
    "    'USD': '美金', 'EUR': '歐元', 'JPY': '日圓', 'CNY': '人民幣', 'HKD': '港幣', 'SGD': '新加坡幣', 'GBP': '英鎊',\n",
    "    'AUD': '澳幣', 'CAD': '加拿大幣', 'NZD': '紐西蘭幣', 'MOP': '澳門幣', 'THB': '泰幣', 'KRW': '韓幣', 'PHP': '菲律賓幣',\n",
    "    'IDR': '印尼幣', 'MYR': '馬來幣', 'BND': '汶萊幣', 'INR': '印度盧比', 'CHF': '瑞士法郎', 'SEK': '瑞典幣', 'NOK': '挪威克朗',\n",
    "    'DKK': '丹麥克朗', 'RUB': '俄國盧布', 'ZAR': '南非幣', 'AED': '阿拉伯聯合酋長國幣', 'AFN': '阿富汗幣', 'ALL': '阿爾巴尼亞幣',\n",
    "    'AMD': '亞美尼亞幣', 'ANG': '荷屬安地列斯幣', 'AOA': '安哥拉幣', 'ARS': '阿根廷比索', 'AWG': '阿魯巴幣', 'AZN': '亞塞拜然幣',\n",
    "    'BAM': '波斯尼亞及黑塞哥維那幣', 'BBD': '巴巴多斯幣', 'BDT': '孟加拉幣', 'BGN': '保加利亞幣', 'BHD': '巴林幣', 'BIF': '布隆迪法郎',\n",
    "    'BMD': '百慕達幣', 'BOB': '玻利維亞幣', 'BRL': '巴西幣', 'BSD': '巴哈馬幣', 'BTN': '不丹幣', 'BWP': '博茨瓦納幣', 'BZD': '貝里斯幣',\n",
    "    'CDF': '剛果法郎', 'CLP': '智利比索', 'COP': '哥倫比亞比索', 'CRC': '哥斯大黎加幣', 'CVE': '佛得角幣', 'CZK': '捷克克朗', 'DJF': '吉布地法郎',\n",
    "    'DOP': '多米尼加比索', 'DZD': '阿爾及利亞幣', 'EGP': '埃及鎊', 'ETB': '衣索比亞幣', 'FJD': '斐濟幣', 'FKP': '福克蘭群島鎊', 'GEL': '喬治亞幣',\n",
    "    'GHS': '迦納幣', 'GIP': '直布羅陀鎊', 'GMD': '甘比亞幣', 'GNF': '幾內亞法郎', 'GTQ': '瓜地馬拉幣', 'GYD': '圭亞那幣', 'HNL': '宏都拉斯幣',\n",
    "    'HRK': '克羅埃西亞幣', 'HTG': '海地幣', 'HUF': '匈牙利幣', 'ILS': '以色列幣', 'IQD': '伊拉克幣', 'ISK': '冰島克朗', 'JMD': '牙買加幣',\n",
    "    'JOD': '約旦幣', 'KES': '肯尼亞幣', 'KGS': '吉爾吉斯斯坦幣', 'KHR': '柬埔寨幣', 'KMF': '科摩羅法郎', 'KWD': '科威特幣', 'KYD': '開曼群島幣',\n",
    "    'KZT': '哈薩克堅戈', 'LAK': '寮幣', 'LKR': '斯里蘭卡盧比', 'LRD': '賴比瑞亞幣', 'LSL': '賴索托幣', 'LYD': '利比亞幣', 'MAD': '摩洛哥幣',\n",
    "    'MDL': '摩爾多瓦幣', 'MGA': '馬達加斯加幣', 'MKD': '馬其頓幣', 'MMK': '緬甸幣', 'MNT': '蒙古幣', 'MUR': '模里西斯盧比', 'MVR': '馬爾地夫幣',\n",
    "    'MWK': '馬拉威幣', 'MXN': '墨西哥比索', 'MZN': '莫三比克幣', 'NAD': '納米比亞幣', 'NGN': '尼日利亞幣', 'NIO': '尼加拉瓜幣', 'NPR': '尼泊爾盧比',\n",
    "    'OMR': '阿曼幣', 'PAB': '巴拿馬幣', 'PEN': '秘魯幣', 'PGK': '巴布亞紐幾內亞幣', 'PKR': '巴基斯坦盧比', 'PLN': '波蘭幣', 'PYG': '巴拉圭幣',\n",
    "    'QAR': '卡塔爾幣', 'RON': '羅馬尼亞幣', 'RSD': '塞爾維亞幣', 'RWF': '盧旺達法郎', 'SAR': '沙烏地阿拉伯幣', 'SBD': '索羅門群島幣', 'SCR': '塞席爾盧比',\n",
    "    'SHP': '聖赫勒拿鎊', 'SOS': '索馬利亞幣', 'SRD': '蘇利南幣', 'SSP': '南蘇丹鎊', 'SVC': '薩爾瓦多科朗', 'SZL': '史瓦濟蘭幣', 'TMT': '土庫曼幣',\n",
    "    'TND': '突尼西亞幣', 'TOP': '東加幣', 'TRY': '土耳其里拉', 'TTD': '特立尼達及多巴哥幣', 'TZS': '坦桑尼亞幣', 'UAH': '烏克蘭幣', 'UGX': '烏干達幣',\n",
    "    'UYU': '烏拉圭比索', 'UZS': '烏玆別克斯坦幣', 'VND': '越南幣', 'VUV': '瓦努阿圖幣', 'WST': '薩摩亞幣', 'XAF': '中非法郎', 'XCD': '東加勒比海幣',\n",
    "    'XOF': '西非法郎', 'XPF': '太平洋法郎', 'YER': '葉門幣', 'ZMW': '尚比亞克瓦查', 'LBP': '黎巴嫩鎊', 'TJS': '塔吉克斯坦幣'\n",
    "    }\n",
    "\n",
    "with open('data/countries_original.json', 'w', encoding='utf-8') as f:\n",
    "    json.dump(countries, f, ensure_ascii=False)"
   ]
  },
  {
   "attachments": {},
   "cell_type": "markdown",
   "metadata": {},
   "source": [
    "### **Load the json file**"
   ]
  },
  {
   "cell_type": "code",
   "execution_count": null,
   "metadata": {},
   "outputs": [],
   "source": [
    "import json\n",
    "\n",
    "with open('data/countries_original.json', encoding='utf-8') as f:\n",
    "    countries = json.load(f)"
   ]
  },
  {
   "attachments": {},
   "cell_type": "markdown",
   "metadata": {},
   "source": [
    "### **Define the basic function for selenium**"
   ]
  },
  {
   "cell_type": "code",
   "execution_count": null,
   "metadata": {},
   "outputs": [],
   "source": [
    "from selenium import webdriver\n",
    "from selenium.webdriver.chrome.options import Options\n",
    "\n",
    "\n",
    "def get_driver():\n",
    "    options = Options()\n",
    "    options.add_argument(\"--headless\")\n",
    "    options.add_experimental_option('excludeSwitches', ['enable-logging'])\n",
    "    WINDOW_SIZE = \"1920,1080\"\n",
    "    options.add_argument(\"--window-size=%s\" % WINDOW_SIZE)\n",
    "    driver = webdriver.Chrome(options=options)\n",
    "    return driver"
   ]
  },
  {
   "attachments": {},
   "cell_type": "markdown",
   "metadata": {},
   "source": [
    "### **Prepare Data**"
   ]
  },
  {
   "cell_type": "code",
   "execution_count": null,
   "metadata": {},
   "outputs": [],
   "source": [
    "import os\n",
    "\n",
    "outputfile = 'temp.csv'\n",
    "complete = 'output/即時匯率.xlsx'\n",
    "if os.path.exists(outputfile):\n",
    "    os.remove(outputfile)"
   ]
  },
  {
   "cell_type": "code",
   "execution_count": null,
   "metadata": {},
   "outputs": [],
   "source": [
    "# import pandas as pd\n",
    "# import numpy as np\n",
    "# def get_basic_data_format():\n",
    "#     result = pd.DataFrame(\n",
    "#             [[np.nan, np.nan, 2990, '更新日期', '匯率', '試算結果', '更新日期', '匯率', '試算結果', '更新日期', '匯率', '試算結果']],\n",
    "#             columns = ['國家', '幣值', '金額', 'VISA', '匯率', '試算結果', 'Master', '匯率', '試算結果', 'JCB', '匯率', '試算結果']\n",
    "#             )\n",
    "#     return result"
   ]
  },
  {
   "attachments": {},
   "cell_type": "markdown",
   "metadata": {},
   "source": [
    "### **Main Function**"
   ]
  },
  {
   "cell_type": "code",
   "execution_count": null,
   "metadata": {},
   "outputs": [],
   "source": [
    "import pandas as pd\n",
    "from selenium.common.exceptions import NoSuchElementException\n",
    "from selenium.webdriver.common.by import By\n",
    "\n",
    "\n",
    "def get_default_country(target_country):\n",
    "    result = pd.DataFrame()\n",
    "    driver = get_driver()\n",
    "    for i, (country, country_in_chinese) in enumerate(target_country.items()):\n",
    "        func_num = i + 2\n",
    "        driver.get(f'https://www.bestxrate.com/card/mastercard/{country}.html')\n",
    "\n",
    "        try:\n",
    "            visa = driver.find_element(By.ID, \"comparison_huilv_Visa\").text\n",
    "            visadate = driver.find_element(By.CSS_SELECTOR, \".even .gray_font\").text\n",
    "            visadate = visadate.replace('(', '').replace(')', '')\n",
    "            master = (driver.find_element(By.CSS_SELECTOR, \".odd:nth-child(1) > td:nth-child(2)\").text)\n",
    "            masterdate = master.split(' ')[-1].replace('(', '').replace(')', '')\n",
    "            master = master.split(' ')[0]\n",
    "            jcb = (driver.find_element(By.CSS_SELECTOR, \".odd:nth-child(3) > td:nth-child(2)\").text)\n",
    "            jcbdate = jcb.split(' ')[-1].replace('(', '').replace(')', '')\n",
    "            jcb = jcb.split(' ')[0]\n",
    "        except NoSuchElementException:\n",
    "            pass\n",
    "        data = pd.DataFrame(\n",
    "            [[country_in_chinese, country, 2990, visadate, visa, f'=C{func_num}*E{func_num}*1.5', master, f'=C{func_num}*H{func_num}*1.5', jcb, f'=C{func_num}*K{func_num}*1.5']],\n",
    "            columns = ['國家', '幣值', '金額', '更新時間', 'Visa', '試算結果', 'Master', '試算結果', 'JCB', '試算結果']\n",
    "            )\n",
    "        result = pd.concat([result, data], axis = 0, ignore_index = True)\n",
    "        print(country_in_chinese, 'has been done')\n",
    "    result.to_excel(complete, index=False)\n",
    "    return result"
   ]
  },
  {
   "cell_type": "code",
   "execution_count": null,
   "metadata": {},
   "outputs": [],
   "source": [
    "get_default_country(countries)"
   ]
  },
  {
   "cell_type": "code",
   "execution_count": null,
   "metadata": {},
   "outputs": [],
   "source": [
    "import pandas as pd\n",
    "from openpyxl import load_workbook\n",
    "from openpyxl.styles import PatternFill\n",
    "\n",
    "data = pd.read_excel('output/即時匯率.xlsx')\n",
    "\n",
    "data.to_excel('output/colored_即時匯率.xlsx', index=False)\n",
    "\n",
    "wb = load_workbook('output/colored_即時匯率.xlsx')\n",
    "ws = wb.active\n",
    "\n",
    "# 设置填充颜色\n",
    "yellow_fill = PatternFill(start_color=\"FFFF99\", end_color=\"FFFF99\", fill_type=\"solid\")\n",
    "green_fill = PatternFill(start_color=\"99FF99\", end_color=\"99FF99\", fill_type=\"solid\")\n",
    "blue_fill = PatternFill(start_color=\"99CCFF\", end_color=\"99CCFF\", fill_type=\"solid\")\n",
    "\n",
    "# 定义要设置颜色的列\n",
    "yellow_columns = ['D', 'E']\n",
    "green_columns = ['G', 'H']\n",
    "blue_columns = ['J', 'K']\n",
    "\n",
    "# 为指定列添加颜色\n",
    "for row in ws.iter_rows():\n",
    "    for cell in row:\n",
    "        if cell.column_letter in yellow_columns:\n",
    "            cell.fill = yellow_fill\n",
    "        elif cell.column_letter in green_columns:\n",
    "            cell.fill = green_fill\n",
    "        elif cell.column_letter in blue_columns:\n",
    "            cell.fill = blue_fill\n",
    "\n",
    "# 保存更改\n",
    "wb.save('output/colored_即時匯率.xlsx')"
   ]
  },
  {
   "attachments": {},
   "cell_type": "markdown",
   "metadata": {},
   "source": [
    "### **Multi Processing Version**"
   ]
  },
  {
   "cell_type": "code",
   "execution_count": null,
   "metadata": {},
   "outputs": [],
   "source": [
    "from concurrent.futures import ThreadPoolExecutor\n",
    "\n",
    "import numpy as np\n",
    "import pandas as pd\n",
    "from selenium.common.exceptions import NoSuchElementException\n",
    "from selenium.webdriver.common.by import By\n",
    "\n",
    "\n",
    "def get_data_for_country_multi(country, country_in_chinese, driver, func_num):\n",
    "    driver.get(f'https://www.bestxrate.com/card/mastercard/{country}.html')\n",
    "\n",
    "    try:\n",
    "        visa = driver.find_element(By.ID, \"comparison_huilv_Visa\").text\n",
    "        visadate = driver.find_element(By.CSS_SELECTOR, \".even .gray_font\").text\n",
    "        visadate = visadate.replace('(', '').replace(')', '')\n",
    "        master = (driver.find_element(By.CSS_SELECTOR, \".odd:nth-child(1) > td:nth-child(2)\").text)\n",
    "        masterdate = master.split(' ')[-1].replace('(', '').replace(')', '')\n",
    "        master = master.split(' ')[0]\n",
    "        jcb = (driver.find_element(By.CSS_SELECTOR, \".odd:nth-child(3) > td:nth-child(2)\").text)\n",
    "        jcbdate = jcb.split(' ')[-1].replace('(', '').replace(')', '')\n",
    "        jcb = jcb.split(' ')[0]\n",
    "    except NoSuchElementException:\n",
    "        print(f\"{country} not found\")\n",
    "\n",
    "    data = pd.DataFrame(\n",
    "        [[country_in_chinese, country, '=C2', np.nan, visadate, visa, f'=B2*C{func_num}*F{func_num}', np.nan, masterdate, master, f'=B2*C{func_num}*J{func_num}', np.nan, jcbdate, jcb, f'=B2*C{func_num}*N{func_num}']],\n",
    "        columns=['國家', '手續費', '金額', np.nan, np.nan, 'VISA', np.nan, np.nan, np.nan, 'Master', np.nan, np.nan, np.nan, 'JCB', np.nan]\n",
    "    )\n",
    "    print(country_in_chinese, 'has been done')\n",
    "    return data\n",
    "\n",
    "\n",
    "def get_default_country(target_country):\n",
    "    result = get_basic_data_format()\n",
    "    driver = get_driver()\n",
    "\n",
    "    with ThreadPoolExecutor() as executor:\n",
    "        tasks = []\n",
    "        for i, (country, country_in_chinese) in enumerate(target_country.items()):\n",
    "            func_num = i+3\n",
    "            tasks.append(executor.submit(get_data_for_country_multi, country, country_in_chinese, driver, func_num))\n",
    "\n",
    "        for task in tasks:\n",
    "            data = task.result()\n",
    "            result = pd.concat([result, data], axis=0, ignore_index=True)\n",
    "\n",
    "    result.to_excel(complete, index=False)"
   ]
  },
  {
   "cell_type": "code",
   "execution_count": null,
   "metadata": {},
   "outputs": [],
   "source": [
    "get_default_country(countries)"
   ]
  },
  {
   "attachments": {},
   "cell_type": "markdown",
   "metadata": {},
   "source": [
    "### **Clean all Chrome Driver**"
   ]
  },
  {
   "cell_type": "code",
   "execution_count": null,
   "metadata": {},
   "outputs": [],
   "source": [
    "import os\n",
    "\n",
    "cmd = \"taskkill /F /IM chrome.exe /T\"\n",
    "os.system(cmd)"
   ]
  },
  {
   "cell_type": "code",
   "execution_count": null,
   "metadata": {},
   "outputs": [],
   "source": [
    "import time\n",
    "\n",
    "\n",
    "def timer(func):\n",
    "    def wrapper(*args, **kwargs):\n",
    "        start_time = time.time()\n",
    "        result = func(*args, **kwargs)\n",
    "        end_time = time.time()\n",
    "        print(f\"Function {func.__name__} took {end_time - start_time:.4f} seconds to execute.\")\n",
    "        return result\n",
    "    return wrapper"
   ]
  },
  {
   "cell_type": "code",
   "execution_count": null,
   "metadata": {},
   "outputs": [],
   "source": [
    "import functools\n",
    "import time\n",
    "\n",
    "\n",
    "def timer(func):\n",
    "    @functools.wraps(func)\n",
    "    def wrapper(*args, **kwargs):\n",
    "        wrapper.count += 1\n",
    "        start_time = time.time()\n",
    "        result = func(*args, **kwargs)\n",
    "        end_time = time.time()\n",
    "        run_time = end_time - start_time\n",
    "        wrapper.total_time += run_time\n",
    "        wrapper.avg_time = wrapper.total_time / wrapper.count\n",
    "        wrapper.max_time = max(run_time, wrapper.max_time)\n",
    "        wrapper.min_time = min(run_time, wrapper.min_time)\n",
    "        print(f\"Function {func.__name__} took {run_time:.4f} seconds to execute. Called {wrapper.count} times.\")\n",
    "        print(f\"Average time: {wrapper.avg_time:.4f} seconds. Max time: {wrapper.max_time:.4f} seconds. Min time: {wrapper.min_time:.4f} seconds.\")\n",
    "        return result\n",
    "    wrapper.count = 0\n",
    "    wrapper.total_time = 0.0\n",
    "    wrapper.avg_time = 0.0\n",
    "    wrapper.max_time = float('-inf')\n",
    "    wrapper.min_time = float('inf')\n",
    "    return wrapper"
   ]
  }
 ],
 "metadata": {
  "kernelspec": {
   "display_name": "envwei",
   "language": "python",
   "name": "python3"
  },
  "language_info": {
   "codemirror_mode": {
    "name": "ipython",
    "version": 3
   },
   "file_extension": ".py",
   "mimetype": "text/x-python",
   "name": "python",
   "nbconvert_exporter": "python",
   "pygments_lexer": "ipython3",
   "version": "3.9.15"
  },
  "vscode": {
   "interpreter": {
    "hash": "1c08bb0167651df9299a7017765945536837d443193700c8958066914a3b8fdc"
   }
  }
 },
 "nbformat": 4,
 "nbformat_minor": 2
}
