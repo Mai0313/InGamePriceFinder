{
 "cells": [
  {
   "cell_type": "code",
   "execution_count": null,
   "metadata": {},
   "outputs": [],
   "source": [
    "import json\n",
    "\n",
    "import pandas as pd\n",
    "from google_play_scraper import app\n",
    "\n",
    "\n",
    "def get_game_list():\n",
    "    with open(\"data/gameList.json\", encoding='utf-8') as f:\n",
    "        return json.load(f)\n",
    "\n",
    "\n",
    "def get_country():\n",
    "    with open('data/currencyRate.json', encoding='utf-8') as f:\n",
    "        return json.load(f)\n",
    "\n",
    "\n",
    "def get_game_info(name, country):\n",
    "    return app(name, lang='en', country=country)"
   ]
  },
  {
   "cell_type": "code",
   "execution_count": null,
   "metadata": {},
   "outputs": [],
   "source": [
    "def get_game_info_to_df(country):\n",
    "    games = get_game_list()\n",
    "    result = pd.DataFrame()\n",
    "    for game in games:\n",
    "        name = game[\"name\"]\n",
    "        gameid = game[\"packageId\"]\n",
    "        id = game[\"id\"]\n",
    "        country = country\n",
    "        try:\n",
    "            price = get_game_info(gameid, country)['inAppProductPrice']\n",
    "        except Exception as e:\n",
    "            print(f\"{name} is not found due to {e}\")\n",
    "        price_df = pd.DataFrame([[name, country, price]], columns = ['遊戲名稱', '國家', '價格'])\n",
    "        price_df['價格'] = price_df['價格'].str.split('-').str[-1].str.split(' ').str[1]\n",
    "        result = pd.concat([result, price_df])\n",
    "    return result"
   ]
  },
  {
   "cell_type": "code",
   "execution_count": null,
   "metadata": {},
   "outputs": [],
   "source": [
    "countries = get_country()\n",
    "for country in countries:\n",
    "    CurrencyName = country['currencyName']\n",
    "    Country = country['countryName']\n",
    "    result = get_game_info_to_df(CurrencyName)\n",
    "    result.to_csv(f\"output/{Country}_info.csv\", encoding=\"utf-8\", index = None)\n",
    "    break"
   ]
  },
  {
   "cell_type": "code",
   "execution_count": null,
   "metadata": {},
   "outputs": [],
   "source": [
    "import pandas as pd\n",
    "\n",
    "currency_data = pd.read_excel('output/即時匯率.xlsx')\n",
    "currency_data['幣值簡稱'] = currency_data['幣值'].str[:2].str.upper()\n",
    "price_data = pd.read_csv('output/約旦_info.csv')\n",
    "price_data['幣值簡稱'] = price_data['國家'].str[:2].str.upper()"
   ]
  },
  {
   "cell_type": "code",
   "execution_count": null,
   "metadata": {},
   "outputs": [],
   "source": [
    "currency_data = currency_data.rename(columns={'Visa': 'Visa匯率', 'Master': 'Master匯率', 'JCB': 'JCB匯率'})\n",
    "currency_data"
   ]
  },
  {
   "cell_type": "code",
   "execution_count": null,
   "metadata": {},
   "outputs": [],
   "source": [
    "result = pd.merge(currency_data, price_data, left_on = '幣值簡稱', right_on = '幣值簡稱', how = 'right')\n",
    "result = result.drop(['國家_y', '幣值簡稱', '試算結果', '試算結果.1', '試算結果.2'], axis = 1)\n",
    "result = result.rename(columns = {'國家_x': '國家'})\n",
    "result = result[['國家', '幣值', '金額', 'VISA', '匯率', 'Master', '匯率.1', 'JCB', '匯率.2', '遊戲名稱', '價格']]\n",
    "result = result.rename(columns = {'匯率': 'VISA匯率', '匯率.1': 'Master匯率', '匯率.2': 'JCB匯率'})\n",
    "result = result.fillna(0)\n",
    "result['價格'] = result['價格'].replace(r'[^\\d.]', '', regex=True)\n",
    "result.to_csv('test.csv', index = None)"
   ]
  },
  {
   "cell_type": "code",
   "execution_count": null,
   "metadata": {},
   "outputs": [],
   "source": [
    "data = pd.read_csv('test.csv')\n",
    "data['VISA 價格'] = data['VISA匯率'] * data['價格']\n",
    "data['Master 價格'] = data['Master匯率'] * data['價格']\n",
    "data['JCB 價格'] = data['JCB匯率'] * data['價格']\n",
    "data"
   ]
  },
  {
   "cell_type": "code",
   "execution_count": null,
   "metadata": {},
   "outputs": [],
   "source": [
    "price_data"
   ]
  }
 ],
 "metadata": {
  "kernelspec": {
   "display_name": "google",
   "language": "python",
   "name": "python3"
  },
  "language_info": {
   "codemirror_mode": {
    "name": "ipython",
    "version": 3
   },
   "file_extension": ".py",
   "mimetype": "text/x-python",
   "name": "python",
   "nbconvert_exporter": "python",
   "pygments_lexer": "ipython3",
   "version": "3.10.11"
  }
 },
 "nbformat": 4,
 "nbformat_minor": 2
}
