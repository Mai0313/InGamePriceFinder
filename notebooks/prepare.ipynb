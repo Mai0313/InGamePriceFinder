{
 "cells": [
  {
   "cell_type": "code",
   "execution_count": null,
   "metadata": {},
   "outputs": [],
   "source": [
    "import pandas as pd\n",
    "\n",
    "data = pd.read_csv(\"../data/games_price/德國_info.csv\")\n",
    "data[\"Price\"] = data[\"Price\"].str.replace(r'[^\\d.]', '', regex=True)\n",
    "data = data.dropna(subset=[\"Price\"])\n",
    "data = data.query(\"Price != ''\")\n",
    "data[\"Price\"] = data[\"Price\"].astype(float)\n",
    "data[\"Country\"]\n",
    "data"
   ]
  },
  {
   "cell_type": "code",
   "execution_count": null,
   "metadata": {},
   "outputs": [],
   "source": [
    "import orjson\n",
    "\n",
    "\n",
    "def get_country_list():\n",
    "    with open(\"../configs/countries.json\", \"rb\") as file:\n",
    "        json_data = file.read()\n",
    "        data = orjson.loads(json_data)\n",
    "    return data\n",
    "\n",
    "target_countries = get_country_list()\n",
    "\n",
    "for i, target_country in enumerate(target_countries):\n",
    "    print(target_country)"
   ]
  },
  {
   "cell_type": "code",
   "execution_count": null,
   "metadata": {},
   "outputs": [],
   "source": []
  }
 ],
 "metadata": {
  "kernelspec": {
   "display_name": "google",
   "language": "python",
   "name": "python3"
  },
  "language_info": {
   "codemirror_mode": {
    "name": "ipython",
    "version": 3
   },
   "file_extension": ".py",
   "mimetype": "text/x-python",
   "name": "python",
   "nbconvert_exporter": "python",
   "pygments_lexer": "ipython3",
   "version": "3.9.15"
  }
 },
 "nbformat": 4,
 "nbformat_minor": 2
}
