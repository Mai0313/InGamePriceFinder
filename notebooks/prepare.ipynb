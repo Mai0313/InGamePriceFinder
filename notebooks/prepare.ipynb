{
 "cells": [
  {
   "cell_type": "code",
   "execution_count": null,
   "metadata": {},
   "outputs": [],
   "source": [
    "import os\n",
    "\n",
    "import pandas as pd\n",
    "\n",
    "\n",
    "def get_price(data: pd.DataFrame()) -> pd.DataFrame():\n",
    "    game_price_data = data.copy()\n",
    "    game_price_data[\"Price\"] = game_price_data[\"Price\"].str.split(\" - \", expand=True)[1]\n",
    "    game_price_data[\"Price\"] = game_price_data[\"Price\"].str.replace(r'[^\\d.]', '', regex=True)\n",
    "    game_price_data = game_price_data.dropna(subset=[\"Price\"])\n",
    "    game_price_data[\"Price\"] = game_price_data[\"Price\"].astype(float)\n",
    "    game_price_data[\"Country\"] = game_price_data[\"Country\"].str.upper()\n",
    "    return game_price_data\n",
    "\n",
    "\n",
    "def get_result_data(game_price_data: pd.DataFrame(), currency_data: pd.DataFrame()) -> pd.DataFrame():\n",
    "    currency_data[\"Country\"] = currency_data[\"Country\"].str.upper().astype(str)\n",
    "    result = pd.merge(game_price_data, currency_data, on=\"Country\", how = \"left\")\n",
    "    result = result.dropna(subset=[\"Visa Currency\", \"Master Currency\", \"JCB Currency\"])\n",
    "    result[\"Visa Price\"] = result[\"Price\"] * result[\"Visa Currency\"]\n",
    "    result[\"Master Price\"] = result[\"Price\"] * result[\"Master Currency\"]\n",
    "    result[\"JCB Price\"] = result[\"Price\"] * result[\"JCB Currency\"]\n",
    "    cols = [f for f in result.columns if f not in [\"Country\", \"Currency\", \"Price\", \"Visa Currency\", \"Master Currency\", \"JCB Currency\"]]\n",
    "    result = result[cols]\n",
    "    return result\n",
    "\n",
    "\n",
    "def get_all_results(game_price_data_path: str, currency_data_path: str):\n",
    "    prices = [f for f in os.listdir(game_price_data_path) if f.endswith(\".csv\")]\n",
    "    currency = pd.read_csv(currency_data_path)\n",
    "    for price in prices:\n",
    "        price_path = f\"{game_price_data_path}/{price}\"\n",
    "        data = pd.read_csv(price_path)\n",
    "        game_price_data = get_price(data)\n",
    "        result = get_result_data(game_price_data, currency)\n",
    "        if not result.empty:\n",
    "            os.makedirs(\"../data/games_price_result\", exist_ok=True)\n",
    "            result.to_csv(f\"../data/games_price_result/{price}\", index=False)\n",
    "        else:\n",
    "            pass\n",
    "\n",
    "\n",
    "data = pd.read_csv(\"../data/games_price/約旦_info.csv\")\n",
    "currency = pd.read_csv(\"../data/currency_rate/currency_rate.csv\")\n",
    "\n",
    "game_price_data_path = \"../data/games_price/\"\n",
    "currency_data_path = \"../data/currency_rate/currency_rate.csv\"\n",
    "result = get_all_results(game_price_data_path, currency_data_path)\n",
    "result"
   ]
  },
  {
   "cell_type": "code",
   "execution_count": null,
   "metadata": {},
   "outputs": [],
   "source": [
    "import orjson\n",
    "\n",
    "# 讀取原始檔案\n",
    "with open(\"../configs/countries.json\") as f:\n",
    "    countries = orjson.loads(f.read())\n",
    "\n",
    "# 創建一個集合來存儲獨特的貨幣代碼\n",
    "unique_currencies = set()\n",
    "# 用於存儲不重複的貨幣資訊\n",
    "unique_currency_data = []\n",
    "\n",
    "for country in countries:\n",
    "    currency = country[\"Currency\"]\n",
    "    if currency not in unique_currencies:\n",
    "        unique_currencies.add(currency)\n",
    "        unique_currency_data.append(country)\n",
    "\n",
    "# 現在將獨特的貨幣資訊寫入到新文件中\n",
    "with open(\"../configs/unique_currencies.json\", \"w\") as f:\n",
    "    f.write(orjson.dumps(unique_currency_data).decode(\"utf-8\"))"
   ]
  },
  {
   "cell_type": "code",
   "execution_count": null,
   "metadata": {},
   "outputs": [],
   "source": [
    "import orjson\n",
    "\n",
    "\n",
    "def get_country_list():\n",
    "    with open(\"../configs/countries.json\", \"rb\") as file:\n",
    "        json_data = file.read()\n",
    "        data = orjson.loads(json_data)\n",
    "    return data\n",
    "\n",
    "\n",
    "target_countries = get_country_list()\n",
    "\n",
    "for i, target_country in enumerate(target_countries):\n",
    "    print(target_country)"
   ]
  },
  {
   "cell_type": "code",
   "execution_count": null,
   "metadata": {},
   "outputs": [],
   "source": []
  }
 ],
 "metadata": {
  "kernelspec": {
   "display_name": "google",
   "language": "python",
   "name": "python3"
  },
  "language_info": {
   "codemirror_mode": {
    "name": "ipython",
    "version": 3
   },
   "file_extension": ".py",
   "mimetype": "text/x-python",
   "name": "python",
   "nbconvert_exporter": "python",
   "pygments_lexer": "ipython3",
   "version": "3.9.15"
  }
 },
 "nbformat": 4,
 "nbformat_minor": 2
}
