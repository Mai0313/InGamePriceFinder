{
 "cells": [
  {
   "cell_type": "code",
   "execution_count": null,
   "metadata": {},
   "outputs": [],
   "source": [
    "import pandas as pd\n",
    "\n",
    "data = pd.read_csv(\"../data/games_price/德國_info.csv\")\n",
    "data[\"Price\"] = data[\"Price\"].str.replace(r'[^\\d.]', '', regex=True)\n",
    "data = data.dropna(subset=[\"Price\"])\n",
    "data = data.query(\"Price != ''\")\n",
    "data[\"Price\"] = data[\"Price\"].astype(float)\n",
    "data[\"Country\"] = data[\"Country\"].str.upper()\n",
    "data"
   ]
  },
  {
   "cell_type": "code",
   "execution_count": null,
   "metadata": {},
   "outputs": [],
   "source": [
    "import pandas as pd\n",
    "\n",
    "currency = pd.read_csv(\"../data/currency_rate/currency_rate.csv\")\n",
    "currency.query(\"Currency == 'DE'\")"
   ]
  },
  {
   "cell_type": "code",
   "execution_count": null,
   "metadata": {},
   "outputs": [],
   "source": [
    "import orjson\n",
    "\n",
    "# 讀取原始檔案\n",
    "with open(\"../configs/countries.json\") as f:\n",
    "    countries = orjson.loads(f.read())\n",
    "\n",
    "# 創建一個集合來存儲獨特的貨幣代碼\n",
    "unique_currencies = set()\n",
    "# 用於存儲不重複的貨幣資訊\n",
    "unique_currency_data = []\n",
    "\n",
    "for country in countries:\n",
    "    currency = country[\"Currency\"]\n",
    "    if currency not in unique_currencies:\n",
    "        unique_currencies.add(currency)\n",
    "        unique_currency_data.append(country)\n",
    "\n",
    "# 現在將獨特的貨幣資訊寫入到新文件中\n",
    "with open(\"../configs/unique_currencies.json\", \"w\") as f:\n",
    "    f.write(orjson.dumps(unique_currency_data).decode(\"utf-8\"))\n"
   ]
  },
  {
   "cell_type": "code",
   "execution_count": null,
   "metadata": {},
   "outputs": [],
   "source": [
    "import orjson\n",
    "\n",
    "\n",
    "def get_country_list():\n",
    "    with open(\"../configs/countries.json\", \"rb\") as file:\n",
    "        json_data = file.read()\n",
    "        data = orjson.loads(json_data)\n",
    "    return data\n",
    "\n",
    "target_countries = get_country_list()\n",
    "\n",
    "for i, target_country in enumerate(target_countries):\n",
    "    print(target_country)"
   ]
  },
  {
   "cell_type": "code",
   "execution_count": null,
   "metadata": {},
   "outputs": [],
   "source": []
  }
 ],
 "metadata": {
  "kernelspec": {
   "display_name": "google",
   "language": "python",
   "name": "python3"
  },
  "language_info": {
   "codemirror_mode": {
    "name": "ipython",
    "version": 3
   },
   "file_extension": ".py",
   "mimetype": "text/x-python",
   "name": "python",
   "nbconvert_exporter": "python",
   "pygments_lexer": "ipython3",
   "version": "3.9.15"
  }
 },
 "nbformat": 4,
 "nbformat_minor": 2
}
